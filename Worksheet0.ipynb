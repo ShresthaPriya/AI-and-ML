{
  "nbformat": 4,
  "nbformat_minor": 0,
  "metadata": {
    "colab": {
      "provenance": [],
      "authorship_tag": "ABX9TyPq8sxwiO8EbKduyDzZYFzr",
      "include_colab_link": true
    },
    "kernelspec": {
      "name": "python3",
      "display_name": "Python 3"
    },
    "language_info": {
      "name": "python"
    }
  },
  "cells": [
    {
      "cell_type": "markdown",
      "metadata": {
        "id": "view-in-github",
        "colab_type": "text"
      },
      "source": [
        "<a href=\"https://colab.research.google.com/github/ShresthaPriya/AI-and-ML/blob/main/Worksheet0.ipynb\" target=\"_parent\"><img src=\"https://colab.research.google.com/assets/colab-badge.svg\" alt=\"Open In Colab\"/></a>"
      ]
    },
    {
      "cell_type": "markdown",
      "source": [
        "# Exercise on Functions:"
      ],
      "metadata": {
        "id": "ckW7SBQ844og"
      }
    },
    {
      "cell_type": "markdown",
      "source": [
        "**Task - 1:**"
      ],
      "metadata": {
        "id": "GeezdCLF46l9"
      }
    },
    {
      "cell_type": "code",
      "source": [
        "def convert_MeasurementUnits(value, From, To):\n",
        "    \"\"\"\n",
        "    Converts a value from one unit to another.\n",
        "\n",
        "    This function takes three arguments where:\n",
        "        value (float): The value to be converted.\n",
        "        from_unit (str): The original measurement unit to convert.\n",
        "        to_unit (str): The measurement unit to be converted into.\n",
        "and perform conversion operation and Returns the converted value on success, if the conversion is not supported, return none.\n",
        "\n",
        "    \"\"\"\n",
        "\n",
        "    if From == \"m\" and To == \"ft\":\n",
        "        return value * 3.28084\n",
        "    elif From == \"ft\" and To == \"m\":\n",
        "        return value / 3.28084\n",
        "    elif From == \"kg\" and To == \"lbs\":\n",
        "        return value * 2.20462\n",
        "    elif From == \"lbs\" and To == \"kg\":\n",
        "        return value / 2.20462\n",
        "    elif From == \"L\" and To == \"gal\":\n",
        "        return value * 0.264172\n",
        "    elif From == \"gal\" and To == \"L\":\n",
        "        return value / 0.264172\n",
        "    else:\n",
        "        return None\n",
        "\n",
        "def main():\n",
        "    \"\"\"\n",
        "    This function prompts the user input to choose the type of conversion as well as the unit to convert and unit to converted into and the value to convert, then call the\n",
        "    user-defined function to perform the conversion\n",
        "    \"\"\"\n",
        "    print(\"Choose conversion type:\")\n",
        "    print(\"1. Length (m <-> ft)\")\n",
        "    print(\"2. Weight (kg <-> lbs)\")\n",
        "    print(\"3. Volume (L <-> gal)\")\n",
        "\n",
        "    while True:\n",
        "        try:\n",
        "            choice = int(input(\"Enter your choice (1/2/3): \"))\n",
        "            if choice in [1, 2, 3]:\n",
        "                break\n",
        "            else:\n",
        "                print(\"Invalid choice. Please enter 1, 2, or 3.\")\n",
        "        except ValueError:\n",
        "            print(\"Invalid input. Please enter a number.\")\n",
        "\n",
        "    if choice == 1:\n",
        "        From = input(\"Enter original unit to convert(m/ft): \").lower()\n",
        "        To = input(\"Enter target unit (m/ft) to convert into: \").lower()\n",
        "    elif choice == 2:\n",
        "        From = input(\"Enter original unit to convert(kg/lbs): \").lower()\n",
        "        To = input(\"Enter target unit (kg/lbs) to convert into: \").lower()\n",
        "    else:\n",
        "        From = input(\"Enter original unit to convert(L/gal): \").lower()\n",
        "        To = input(\"Enter target unit (L/gal) to convert into: \").lower()\n",
        "\n",
        "    while True:\n",
        "        try:\n",
        "            value = float(input(\"Enter value to convert: \"))\n",
        "            break\n",
        "        except ValueError:\n",
        "            print(\"Invalid input. Please enter a number.\")\n",
        "\n",
        "    result = convert_MeasurementUnits(value, From, To)\n",
        "\n",
        "    if result is not None:\n",
        "        print(f\"{value} {From} is equal to {result:.2f} {To}\")\n",
        "    else:\n",
        "        print(\"Conversion not supported.\")\n",
        "\n",
        "if __name__ == \"__main__\":\n",
        "    main()"
      ],
      "metadata": {
        "colab": {
          "base_uri": "https://localhost:8080/"
        },
        "id": "T9Y9WzMV7H5C",
        "outputId": "fa44550e-c184-4a38-a20c-20ca10e25d7c"
      },
      "execution_count": null,
      "outputs": [
        {
          "output_type": "stream",
          "name": "stdout",
          "text": [
            "Choose conversion type:\n",
            "1. Length (m <-> ft)\n",
            "2. Weight (kg <-> lbs)\n",
            "3. Volume (L <-> gal)\n",
            "Enter your choice (1/2/3): 1\n",
            "Enter original unit to convert(m/ft): m\n",
            "Enter target unit (m/ft) to convert into: ft\n",
            "Enter value to convert: 150\n",
            "150.0 m is equal to 492.13 ft\n"
          ]
        }
      ]
    },
    {
      "cell_type": "markdown",
      "source": [
        "# Task - 2:\n",
        "**Create a Python program that performs various mathematical operations on a list of numbers.**"
      ],
      "metadata": {
        "id": "G8J32L2ksCJa"
      }
    },
    {
      "cell_type": "code",
      "source": [
        "def calculate_sum(numbers):\n",
        "  \"\"\"Calculates and returns sum of numbers in the list using for loop.\n",
        "     Takes parameter (numbers)\n",
        "  \"\"\"\n",
        "  try:\n",
        "    total = 0\n",
        "    for i in numbers:\n",
        "      total+= i\n",
        "    return total\n",
        "  except TypeError:\n",
        "    return None\n",
        "\n",
        "def calculate_average(numbers):\n",
        "  \"\"\"This function takes numbers as parameter, calculates and returns average of numbers in the list using for loop\"\"\"\n",
        "  try:\n",
        "    total = 0\n",
        "    count =0\n",
        "    for i in numbers:\n",
        "      total ++ i\n",
        "      count += 1\n",
        "      average = total /count\n",
        "    return average if count > 0 else 0\n",
        "  except (TypeError, ZeroDivisionError):\n",
        "    return None\n",
        "\n",
        "def find_max(numbers):\n",
        "  \"\"\"Takes numbers as parameter, finds and returns maximum number in the list using for loop\"\"\"\n",
        "  max_val = numbers[0]\n",
        "  for i in numbers:\n",
        "      if i > max_val:\n",
        "          max_val = i\n",
        "  return max_val\n",
        "\n",
        "\n",
        "\n",
        "def find_min(numbers):\n",
        "  \"\"\"Finds and returns minimum number in the list\"\"\"\n",
        "  try:\n",
        "    return min(numbers)\n",
        "  except TypeError:\n",
        "    return None\n",
        "\n",
        "def main():\n",
        "  \"\"\"\n",
        "  This functions prompts user input to choose the operation from 1-4 to perform and numbers in the list\n",
        "  separated by space and has the necessary error handling for invalid inputs and call the specific\n",
        "  function upon choosing the numbers to perform the selected operation, the main function executes the program.\n",
        "\n",
        "\n",
        "  \"\"\"\n",
        "  print(\"Choose the operation to perform\")\n",
        "  print(\"1. Sum\")\n",
        "  print(\"2. Average\")\n",
        "  print(\"3. Maximum\")\n",
        "  print(\"4. Minimum\")\n",
        "  while True:\n",
        "    try:\n",
        "      choice = int(input(\"Enter your choice (1-4): \"))\n",
        "      if 1 <= choice <= 4:\n",
        "        break\n",
        "      else:\n",
        "        print(\"Invalid choice. Enter the number from 1 - 4\")\n",
        "    except ValueError:\n",
        "      print(\"Invalid input. Please enter a number only.\")\n",
        "\n",
        "  while True:\n",
        "    try:\n",
        "       numbers = list(map(float, input(\"Enter a list of numbers separated by spaces: \").split()))\n",
        "       if not numbers:\n",
        "        raise ValueError(\"List cannot be empty.\")\n",
        "       break\n",
        "    except ValueError:\n",
        "      print(\"Invalid input. Enter the number separated by spaces\")\n",
        "\n",
        "  if choice == 1:\n",
        "      result = calculate_sum(numbers)\n",
        "      operation = \"Sum\"\n",
        "  elif choice == 2:\n",
        "      result = calculate_average(numbers)\n",
        "      operation = \"Average\"\n",
        "  elif choice == 3:\n",
        "      result =find_max(numbers)\n",
        "      operation = \"Maximum\"\n",
        "  elif choice == 4:\n",
        "      result = find_min(numbers)\n",
        "      operation = \"Minimum\"\n",
        "  else:\n",
        "      print(\"Invalid choice\")\n",
        "      return\n",
        "\n",
        "  print(f\"The {operation} of numbers is: {result:.2f}\")\n",
        "\n",
        "\n",
        "\n",
        "if __name__ == \"__main__\":\n",
        "    main()\n",
        "\n"
      ],
      "metadata": {
        "colab": {
          "base_uri": "https://localhost:8080/"
        },
        "id": "fZPWsRWLsUDV",
        "outputId": "3db6ff1c-be90-4270-caa3-c8082d0fee04"
      },
      "execution_count": null,
      "outputs": [
        {
          "output_type": "stream",
          "name": "stdout",
          "text": [
            "Choose the operation to perform\n",
            "1. Sum\n",
            "2. Average\n",
            "3. Maximum\n",
            "4. Minimum\n",
            "Enter your choice (1-4): 3\n",
            "Enter a list of numbers separated by spaces: 2 4 6 8 10\n",
            "The Maximum of numbers is: 10.00\n"
          ]
        }
      ]
    },
    {
      "cell_type": "markdown",
      "source": [
        "# 4.2 Exercise on List Manipulation:"
      ],
      "metadata": {
        "id": "W_pPrllV4ADk"
      }
    },
    {
      "cell_type": "markdown",
      "source": [
        "\n",
        "\n",
        "\n",
        "1. Extract Every Other Element:\n",
        "Write a Python function that extracts every other element from a list, starting from the first element. **bold text**"
      ],
      "metadata": {
        "id": "CNpf2u2z3yhd"
      }
    },
    {
      "cell_type": "code",
      "source": [
        "def extract_every_other(lst):\n",
        "  \"\"\"\n",
        "  This function uses slicing to extracts every other elements from the list starting from first element.  \"\"\"\n",
        "  return lst [::2]\n",
        "lists = [1,2,3,4,5]\n",
        "newList = extract_every_other(lists)\n",
        "print(f\"1. The new list after extracts every other elements from the list is {newList}.\")"
      ],
      "metadata": {
        "colab": {
          "base_uri": "https://localhost:8080/"
        },
        "id": "x6VNze4H4Gji",
        "outputId": "d23df137-f84e-42ea-b012-a23655fcd455"
      },
      "execution_count": 7,
      "outputs": [
        {
          "output_type": "stream",
          "name": "stdout",
          "text": [
            "1. The new list after extracts every other elements from the list is [1, 3, 5].\n"
          ]
        }
      ]
    },
    {
      "cell_type": "markdown",
      "source": [
        "**2. Slice a Sublist:**\n",
        "Write a Python function that returns a sublist from a given list, starting from a specified index and\n",
        "ending at another specified index."
      ],
      "metadata": {
        "id": "GbUsouI35dKU"
      }
    },
    {
      "cell_type": "code",
      "source": [
        "def get_sublist(lst, start, end):\n",
        "  \"\"\"This function returns sublist from the list based on specified start and end index.\"\"\"\n",
        "  return lst [start:end +1]\n",
        "lists = [1,2,3,4,5]\n",
        "start_idx = 2\n",
        "end_idx = 4\n",
        "newList = get_sublist(lists, start_idx, end_idx)\n",
        "print(f\"The new list is {newList}\")"
      ],
      "metadata": {
        "colab": {
          "base_uri": "https://localhost:8080/"
        },
        "id": "DAi5w8Xl5mUG",
        "outputId": "680cccb4-cb09-45bb-919a-6182ac3625b3"
      },
      "execution_count": null,
      "outputs": [
        {
          "output_type": "stream",
          "name": "stdout",
          "text": [
            "The new list is [3, 4, 5]\n"
          ]
        }
      ]
    },
    {
      "cell_type": "markdown",
      "source": [
        "**3. Reverse a List Using Slicing:**\n",
        "Write a Python function that reverses a list using slicing\n",
        "\n",
        "– Define a function reverse list(lst) that takes a list lst and returns a reversed list using\n",
        "slicing.\n",
        "\n",
        "– Example: For the input [1, 2, 3, 4, 5], the output should be [5, 4, 3, 2, 1]."
      ],
      "metadata": {
        "id": "qqDyrVke69HB"
      }
    },
    {
      "cell_type": "code",
      "source": [
        "def reverse_list(lst):\n",
        "  \"\"\"This function gives the reversed list of the given list using slicing\"\"\"\n",
        "  return lst[::-1]\n",
        "\n",
        "lists = [1,2,3,4,5]\n",
        "newList = reverse_list(lists)\n",
        "print(f\"New list after reverse is {newList}\")"
      ],
      "metadata": {
        "colab": {
          "base_uri": "https://localhost:8080/"
        },
        "id": "9CbnKIa27Cid",
        "outputId": "0ed87f7f-0a7a-456b-dc50-14be465d7594"
      },
      "execution_count": null,
      "outputs": [
        {
          "output_type": "stream",
          "name": "stdout",
          "text": [
            "New list after reverse is [5, 4, 3, 2, 1]\n"
          ]
        }
      ]
    },
    {
      "cell_type": "markdown",
      "source": [
        "**4. Remove the First and Last Elements:**\n",
        "Write a Python function that removes the first and last elements of a list and returns the resulting\n",
        "sublist.\n"
      ],
      "metadata": {
        "id": "DRi1BiM68zNF"
      }
    },
    {
      "cell_type": "code",
      "source": [
        "def remove_first_last(lst):\n",
        "  \"\"\" This function removes the first and last elements of the list and make a new list  \"\"\"\n",
        "  return lst[1:-1]\n",
        "my_lst = [1,2,3,4,5]\n",
        "newList = remove_first_last(my_lst)\n",
        "print(f\"The new list after removing first and last elements: {newList}\")"
      ],
      "metadata": {
        "colab": {
          "base_uri": "https://localhost:8080/"
        },
        "id": "UvCcur2985D-",
        "outputId": "ac9421f1-187d-4c59-910e-253430f1425c"
      },
      "execution_count": null,
      "outputs": [
        {
          "output_type": "stream",
          "name": "stdout",
          "text": [
            "The new list after removing first and last elements: [2, 3, 4]\n"
          ]
        }
      ]
    },
    {
      "cell_type": "markdown",
      "source": [
        "5. Get the First n Elements:\n",
        "Write a Python function that extracts the first n elements from a list."
      ],
      "metadata": {
        "id": "49IsjOy593Ti"
      }
    },
    {
      "cell_type": "code",
      "source": [
        "def get_first_n(lst, n):\n",
        "  \"\"\" This function extracts the first n elements of a list using slicing \"\"\"\n",
        "  return lst[:n]\n",
        "my_lst = [1,2,3,4,5]\n",
        "n = 3\n",
        "newList = get_first_n(my_lst, n)\n",
        "print(f\"The new list containing first n elements of the list: {newList}\")"
      ],
      "metadata": {
        "colab": {
          "base_uri": "https://localhost:8080/"
        },
        "id": "lIuo1kh494Ng",
        "outputId": "2534f5bb-faf2-4651-b9fb-e3da0d0c3f9e"
      },
      "execution_count": null,
      "outputs": [
        {
          "output_type": "stream",
          "name": "stdout",
          "text": [
            "The new list containing first n elements of the list: [1, 2, 3]\n"
          ]
        }
      ]
    },
    {
      "cell_type": "markdown",
      "source": [
        "6. Extract Elements from the End:\n",
        "Write a Python function that extracts the last n elements of a list using slicing."
      ],
      "metadata": {
        "id": "Btva9xLP-zYf"
      }
    },
    {
      "cell_type": "code",
      "source": [
        "def get_last_n(lst, n):\n",
        "  \"\"\" This function extracts the last n elements of a list using slicing \"\"\"\n",
        "  return lst[-n:]\n",
        "my_lst = [1,2,3,4,5]\n",
        "n = 2\n",
        "newList = get_last_n(my_lst, n)\n",
        "print(f\"The new list containing last n elements of the list: {newList}\")"
      ],
      "metadata": {
        "colab": {
          "base_uri": "https://localhost:8080/"
        },
        "id": "VpT1lzDZ-3CS",
        "outputId": "e53723aa-f2c9-4a70-a99a-803513dcc38f"
      },
      "execution_count": null,
      "outputs": [
        {
          "output_type": "stream",
          "name": "stdout",
          "text": [
            "The new list containing last n elements of the list: [4, 5]\n"
          ]
        }
      ]
    },
    {
      "cell_type": "markdown",
      "source": [
        "7. Extract Elements in Reverse Order:"
      ],
      "metadata": {
        "id": "6hMEUEfb_j0M"
      }
    },
    {
      "cell_type": "code",
      "source": [
        "def reverse_skip(lst):\n",
        "  \"\"\" This function extracts the elements of a list in reverse order skipping one element in between using slicing \"\"\"\n",
        "  return lst[-2::-2]\n",
        "my_lst = [1,2,3,4,5,6]\n",
        "reversedList = reverse_skip(my_lst)\n",
        "print(f\"The reversed list starting from second to last: {reversedList}\")"
      ],
      "metadata": {
        "colab": {
          "base_uri": "https://localhost:8080/"
        },
        "id": "tEjEjA5S_maP",
        "outputId": "e270653a-a227-43c4-9f71-742c5bf7509c"
      },
      "execution_count": null,
      "outputs": [
        {
          "output_type": "stream",
          "name": "stdout",
          "text": [
            "The reversed list starting from second to last: [5, 3, 1]\n"
          ]
        }
      ]
    },
    {
      "cell_type": "markdown",
      "source": [
        "# 4.3 Exercise on Nested List:"
      ],
      "metadata": {
        "id": "sa-y-xaSAl1E"
      }
    },
    {
      "cell_type": "markdown",
      "source": [
        "**1. Flatten a Nested List:**\n",
        "Write a Python function that takes a nested list and flattens it into a single list, where all the elements\n",
        "are in a single dimension."
      ],
      "metadata": {
        "id": "vrg9CaqcAsMX"
      }
    },
    {
      "cell_type": "code",
      "source": [
        "def flatten(lst):\n",
        "    \"\"\"This function   takes a nested list \"lst\" and flatten it into single array usibg nestes for loop\"\"\"\n",
        "    flattenList = []\n",
        "    # Iterate with outer list\n",
        "    for element in lst:\n",
        "        if type(element) is list:\n",
        "            # irrate overeach element and append to the list\n",
        "            for item in element:\n",
        "                flattenList.append(item)\n",
        "        else:\n",
        "            flattenList.append(element)\n",
        "    return flattenList\n",
        "my_list =[[1, 2], [3, 4], [5]]\n",
        "print('Original List:', my_list)\n",
        "print('Flat List:', flatten(my_list))"
      ],
      "metadata": {
        "colab": {
          "base_uri": "https://localhost:8080/"
        },
        "id": "hXNZ1zCCAn76",
        "outputId": "ec0ebc3f-3da4-4449-c879-b728f67182ee"
      },
      "execution_count": null,
      "outputs": [
        {
          "output_type": "stream",
          "name": "stdout",
          "text": [
            "Original List: [[1, 2], [3, 4], [5]]\n",
            "Flat List: [1, 2, 3, 4, 5]\n"
          ]
        }
      ]
    },
    {
      "cell_type": "markdown",
      "source": [
        "**2. Accessing Nested List Elements:**\n",
        "Write a Python function that extracts a specific element from a nested list given its indices.\n",
        "\n",
        "\n",
        "– Define a function access nested element(lst, indices) that takes a nested list lst and\n",
        "a list of indices indices, and returns the element at that position.\n",
        "\n",
        "– Example: For the input lst = [[1, 2, 3], [4, 5, 6], [7, 8, 9]] with indices = [1,\n",
        "2], the output should be 6."
      ],
      "metadata": {
        "id": "cRm74n9OC9aa"
      }
    },
    {
      "cell_type": "code",
      "source": [
        "def access_nested_element(lst, indices):\n",
        "  \"\"\"This function extracts a specific element from a nested list unsing the given indices.\"\"\"\n",
        "  try:\n",
        "        element = lst\n",
        "        for index in indices:\n",
        "            element = element[index]\n",
        "        return element\n",
        "  except (IndexError, TypeError):\n",
        "      return None\n",
        "\n",
        "\n",
        "lst = [[1, 2, 3], [4, 5, 6], [7, 8, 9]]\n",
        "indices = [1, 2]\n",
        "result = access_nested_element(lst, indices)\n",
        "print(f\"The element in {indices} of the nested list {lst} is {result}\")"
      ],
      "metadata": {
        "colab": {
          "base_uri": "https://localhost:8080/"
        },
        "id": "svg4asiiDBxR",
        "outputId": "69b3bafe-e28f-4a6d-d363-9b3e2f1a2268"
      },
      "execution_count": null,
      "outputs": [
        {
          "output_type": "stream",
          "name": "stdout",
          "text": [
            "The element in [1, 2] of the nested list [[1, 2, 3], [4, 5, 6], [7, 8, 9]] is 6\n"
          ]
        }
      ]
    },
    {
      "cell_type": "markdown",
      "source": [
        "**3. Sum of All Elements in a Nested List:**\n",
        "\n",
        "* Write a Python function that calculates the sum of all the numbers in a nested list (regardless of depth).\n",
        "\n",
        "\n",
        "* Define a function sum nested(lst) that takes a nested list lst and returns the sum of all\n",
        "the elements."
      ],
      "metadata": {
        "id": "9QxbEUeSg2xT"
      }
    },
    {
      "cell_type": "code",
      "source": [
        "def sum_nested(lst):\n",
        "   \"\"\" This function sums all the elements in the nested list recursively \"\"\"\n",
        "   try:\n",
        "    total = 0\n",
        "    for i in range(len(lst)):\n",
        "      if type(lst[i]) == list:\n",
        "\n",
        "        total += sum_nested(lst[i])\n",
        "      else:\n",
        "        total += lst[i]\n",
        "    return total\n",
        "   except (IndexError, TypeError):\n",
        "    return None\n",
        "\n",
        "lst = [[1, 2], [3, [4, 5]], 6]\n",
        "result = sum_nested(lst)\n",
        "print(f\"The sum of all elements in given list is: {result}\")"
      ],
      "metadata": {
        "colab": {
          "base_uri": "https://localhost:8080/"
        },
        "id": "czWkIjYXhEMz",
        "outputId": "b0bb7f85-d361-4d28-80ac-7c772ddcefd8"
      },
      "execution_count": null,
      "outputs": [
        {
          "output_type": "stream",
          "name": "stdout",
          "text": [
            "The sum of all elements in given list is: 21\n"
          ]
        }
      ]
    },
    {
      "cell_type": "markdown",
      "source": [
        "**4. Remove Specific Element from a Nested List:**"
      ],
      "metadata": {
        "id": "QV_biyKgkdLU"
      }
    },
    {
      "cell_type": "code",
      "source": [
        "def remove_element(lst, elem):\n",
        "  \"\"\" This function takes two arguments a list and element to remove \"elem\" and removes the specific element from the list recursively \"\"\"\n",
        "  try:\n",
        "    result = []\n",
        "    for i in range(len(lst)):\n",
        "      if type(lst[i]) == list: # check if the element is a list\n",
        "        modified_lst = remove_element(lst[i], elem)\n",
        "        if modified_lst: #if non empty\n",
        "          result.append(modified_lst)\n",
        "      elif lst[i] != elem:\n",
        "        result.append(lst[i]) #keep elements except for the elem\n",
        "    return result\n",
        "  except (IndexError, TypeError):\n",
        "    return lst\n",
        "\n",
        "lst = [[1, 2], [3, 2], [4, 5]]\n",
        "elem = 2\n",
        "result = remove_element(lst, elem)\n",
        "print(f\"The modified list after removing {elem} is {result}\")"
      ],
      "metadata": {
        "colab": {
          "base_uri": "https://localhost:8080/"
        },
        "id": "9zozE4BAkt0F",
        "outputId": "d2b9444f-0aa7-48b8-bdf7-857eabe09d73"
      },
      "execution_count": null,
      "outputs": [
        {
          "output_type": "stream",
          "name": "stdout",
          "text": [
            "The modified list after removing 2 is [[1], [3], [4, 5]]\n"
          ]
        }
      ]
    },
    {
      "cell_type": "markdown",
      "source": [
        "**5. Find the Maximum Element in a Nested List:**"
      ],
      "metadata": {
        "id": "eg-W0EwdpPuJ"
      }
    },
    {
      "cell_type": "code",
      "source": [
        "def find_max(lst):\n",
        "  \"\"\" This function takes  argument list (lst)  and finds the max element from the nested list recursively \"\"\"\n",
        "  try:\n",
        "    max_val = float('-inf')\n",
        "    for i in range(len(lst)):\n",
        "      if type(lst[i]) == list: # check if the element is a list\n",
        "        max_val = max(max_val,find_max(lst[i]))\n",
        "      else:\n",
        "        max_val = max(max_val,lst[i])\n",
        "    return max_val\n",
        "  except  TypeError:\n",
        "    return lst\n",
        "\n",
        "lst = [[1, 2], [3, 12], [4, 5]]\n",
        "result = find_max(lst)\n",
        "print(f\"The maximum element in the list is {result}\")"
      ],
      "metadata": {
        "colab": {
          "base_uri": "https://localhost:8080/"
        },
        "id": "q8rrG7mtp1sZ",
        "outputId": "7682140c-f728-4f11-9ed9-f8406eba72a5"
      },
      "execution_count": null,
      "outputs": [
        {
          "output_type": "stream",
          "name": "stdout",
          "text": [
            "The maximum element in the list is 12\n"
          ]
        }
      ]
    },
    {
      "cell_type": "markdown",
      "source": [
        "**6. Count Occurrences of an Element in a Nested List:**"
      ],
      "metadata": {
        "id": "jb6riZOjpeFB"
      }
    },
    {
      "cell_type": "code",
      "source": [
        "def count_occurrence(lst, elem):\n",
        "  \"\"\" This function takes two arguments a list and element to remove \"elem\" and counts the no.of repeatition of given element in the list\"\"\"\n",
        "\n",
        "  count = 0\n",
        "  for i in range(len(lst)):\n",
        "    if isinstance(lst[i], list): # check if the element is a list\n",
        "      count += count_occurrence(lst[i], elem)\n",
        "    elif lst[i] == elem:\n",
        "      count += 1 #increase the count\n",
        "  return count\n",
        "lst = [[1, 2], [3, 2], [2,4]]\n",
        "elem = 2\n",
        "result = count_occurrence(lst, elem)\n",
        "print(f\"The element {elem} has appeared {result} times in the list\")"
      ],
      "metadata": {
        "colab": {
          "base_uri": "https://localhost:8080/"
        },
        "id": "c8OV5pLrp2Q8",
        "outputId": "0fbadfe2-3207-40db-c8f4-d8722ab4aeca"
      },
      "execution_count": null,
      "outputs": [
        {
          "output_type": "stream",
          "name": "stdout",
          "text": [
            "The element 2 has appeared 3 times in the list\n"
          ]
        }
      ]
    },
    {
      "cell_type": "markdown",
      "source": [
        "**7. Flatten a List of Lists of Lists:**"
      ],
      "metadata": {
        "id": "VtJf1Qhppg08"
      }
    },
    {
      "cell_type": "code",
      "source": [
        "def deep_flatten(lst):\n",
        "  \"\"\"This function flattens the nested list into a single list\"\"\"\n",
        "  flat=[]\n",
        "  for item in lst:\n",
        "    if isinstance(item,list):\n",
        "      flat.extend(deep_flatten(item))\n",
        "    else:\n",
        "      flat.append(item)\n",
        "  return flat\n",
        "\n",
        "lst = [[[1, 2], [3, 4]], [[5, 6], [7, 8]]]\n",
        "result = deep_flatten(lst)\n",
        "print(f\"The flattened list is {result}\")"
      ],
      "metadata": {
        "id": "hJ1QU036p2v6",
        "colab": {
          "base_uri": "https://localhost:8080/"
        },
        "outputId": "cf0b0632-35ac-4b6c-c8bf-f1ceef1f4ff4"
      },
      "execution_count": null,
      "outputs": [
        {
          "output_type": "stream",
          "name": "stdout",
          "text": [
            "The flattened list is [1, 2, 3, 4, 5, 6, 7, 8]\n"
          ]
        }
      ]
    },
    {
      "cell_type": "markdown",
      "source": [
        "**8. Nested List Average:**\n",
        "\n",
        "* Write a Python function that calculates the average of all elements in a nested list."
      ],
      "metadata": {
        "id": "rP6rceKhpjHb"
      }
    },
    {
      "cell_type": "code",
      "source": [
        "def average_nested(lst):\n",
        "    \"\"\"This function recursively calculates the average of all elements in a nested list.\"\"\"\n",
        "    def deep_flatten(lst):\n",
        "        \"\"\"This function flattens the nested list into a single list\"\"\"\n",
        "        flattened = []\n",
        "        for item in lst:\n",
        "            if isinstance(item, list):\n",
        "                flattened.extend(deep_flatten(item))\n",
        "            else:\n",
        "                flattened.append(item)  # Add non-list elements\n",
        "        return flattened\n",
        "    flat_list = deep_flatten(lst)  # extract a single list of all numbers\n",
        "    if not flat_list:\n",
        "        return 0.0\n",
        "    return sum(flat_list) / len(flat_list)  # Compute average\n",
        "lst = [[1, 2], [3, 4], [5, 6]]\n",
        "result = average_nested(lst)\n",
        "print(f\"The average of all elements is {result}\")"
      ],
      "metadata": {
        "id": "MqpRs18Rp3NA",
        "colab": {
          "base_uri": "https://localhost:8080/"
        },
        "outputId": "3b45bd13-cf6f-494a-d81b-5a70d256c1cf"
      },
      "execution_count": null,
      "outputs": [
        {
          "output_type": "stream",
          "name": "stdout",
          "text": [
            "The average of all elements is 3.5\n"
          ]
        }
      ]
    },
    {
      "cell_type": "markdown",
      "source": [
        "# To - Do - NumPy"
      ],
      "metadata": {
        "id": "ndMW7DL9gsiH"
      }
    },
    {
      "cell_type": "markdown",
      "source": [
        "\n",
        "# Basic Vector and Matrix Operation with Numpy.\n",
        "**Problem - 1: Array Creation:**\n"
      ],
      "metadata": {
        "id": "WgkkbUWwlZeI"
      }
    },
    {
      "cell_type": "code",
      "source": [
        "import numpy as np"
      ],
      "metadata": {
        "id": "2qDKthD_luhG"
      },
      "execution_count": null,
      "outputs": []
    },
    {
      "cell_type": "code",
      "source": [
        "#initialise empty array with 2 * 2\n",
        "arr = np.zeros((2,2))\n",
        "print(\"1.Initialise empty array with 2 * 2\\n\")\n",
        "print(arr)\n",
        "\n",
        "#Initialize an all one array with size 4X2.\n",
        "arr = np.ones((4,2))\n",
        "print(\"\\n2.Initialize an all one array with size 4X2.\\n\")\n",
        "print(arr)\n",
        "\n",
        "#3. Return a new array of given shape and type, filled with fill_value. {Hint: np.full}\n",
        "arr = np.full((4,2), 7, dtype=int)\n",
        "print(\"\\n3. Return a new array of given shape and type, filled with fill_value.\\n\")\n",
        "print(arr)\n",
        "\n",
        "#4. Return a new array of zeros with same shape and type as a given array. {Hint: np.zeros_like}\n",
        "arr = np.full((4,2), 7, dtype=int)\n",
        "new_arr= np.zeros_like(arr)\n",
        "print(\"\\n4. Return a new array of zeros with same shape and type as a given array.\\n\")\n",
        "print(f\"Given array:\\n {arr}\\n\")\n",
        "print(f\"New array:\\n {new_arr}\")\n",
        "\n",
        "#5. Return a new array of ones with same shape and type as a given array. {Hint: np.ones_like}\n",
        "arr = np.array([[2,1,3], [3,4,7]])\n",
        "new_arr = np.ones_like(arr)\n",
        "print(\"\\n5. Return a new array of ones with same shape and type as a given array.\\n\")\n",
        "print(f\"Given array:\\n {arr}\\n\")\n",
        "print(f\"New array:\\n {new_arr}\")\n",
        "\n",
        "#6. For an existing list new_list = [1,2,3,4] convert to a numpy array. {Hint: np.array()}\n",
        "new_list = [1,2,3,4]\n",
        "new_arr = np.array(new_list)\n",
        "print(\"\\n6. For an existing list new_list = [1,2,3,4] convert to a numpy array.\\n\")\n",
        "print(f\"The list {new_list} is converted into array {new_arr}\")\n",
        "print(type(new_arr))"
      ],
      "metadata": {
        "colab": {
          "base_uri": "https://localhost:8080/"
        },
        "id": "t1j7huZTlwUy",
        "outputId": "fae43a9f-eeac-453f-97f3-e4f4241bcbb6"
      },
      "execution_count": 9,
      "outputs": [
        {
          "output_type": "stream",
          "name": "stdout",
          "text": [
            "1.Initialise empty array with 2 * 2\n",
            "\n",
            "[[0. 0.]\n",
            " [0. 0.]]\n",
            "\n",
            "2.Initialize an all one array with size 4X2.\n",
            "\n",
            "[[1. 1.]\n",
            " [1. 1.]\n",
            " [1. 1.]\n",
            " [1. 1.]]\n",
            "\n",
            "3. Return a new array of given shape and type, filled with fill_value.\n",
            "\n",
            "[[7 7]\n",
            " [7 7]\n",
            " [7 7]\n",
            " [7 7]]\n",
            "\n",
            "4. Return a new array of zeros with same shape and type as a given array.\n",
            "\n",
            "Given array:\n",
            " [[7 7]\n",
            " [7 7]\n",
            " [7 7]\n",
            " [7 7]]\n",
            "\n",
            "New array:\n",
            " [[0 0]\n",
            " [0 0]\n",
            " [0 0]\n",
            " [0 0]]\n",
            "\n",
            "5. Return a new array of ones with same shape and type as a given array.\n",
            "\n",
            "Given array:\n",
            " [[2 1 3]\n",
            " [3 4 7]]\n",
            "\n",
            "New array:\n",
            " [[1 1 1]\n",
            " [1 1 1]]\n",
            "\n",
            "6. For an existing list new_list = [1,2,3,4] convert to a numpy array.\n",
            "\n",
            "The list [1, 2, 3, 4] is converted into array [1 2 3 4]\n",
            "<class 'numpy.ndarray'>\n"
          ]
        }
      ]
    },
    {
      "cell_type": "markdown",
      "source": [
        "# Problem - 2: Array Manipulation: Numerical Ranges and Array Indexing"
      ],
      "metadata": {
        "id": "p5G8noKvtZgO"
      }
    },
    {
      "cell_type": "code",
      "source": [
        "#Create an array with values ranging from 10 to 49.{Hint: np.arange()}\n",
        "arr = np.arange(10, 50)\n",
        "print(f\"An array with values ranging from 10 to 49:\\n {arr}\")"
      ],
      "metadata": {
        "colab": {
          "base_uri": "https://localhost:8080/"
        },
        "id": "wDPdTmvitbav",
        "outputId": "30713612-d5fc-421b-83db-5d3213b01958"
      },
      "execution_count": 6,
      "outputs": [
        {
          "output_type": "stream",
          "name": "stdout",
          "text": [
            "An array with values ranging from 10 to 49:\n",
            " [10 11 12 13 14 15 16 17 18 19 20 21 22 23 24 25 26 27 28 29 30 31 32 33\n",
            " 34 35 36 37 38 39 40 41 42 43 44 45 46 47 48 49]\n"
          ]
        }
      ]
    },
    {
      "cell_type": "code",
      "source": [
        "#Create a 3×3 matrix with values ranging from 0 to 8. {Hint: look for np.reshape()}\n",
        "arr = np.arange(9).reshape(3, 3)\n",
        "print(f\"3×3 matrix with values ranging from 0 to 8:\\n {arr}\")"
      ],
      "metadata": {
        "colab": {
          "base_uri": "https://localhost:8080/"
        },
        "id": "DsvgSqGQtvVw",
        "outputId": "c056c71a-7f63-4a3b-f1d4-0d25a938c351"
      },
      "execution_count": null,
      "outputs": [
        {
          "output_type": "stream",
          "name": "stdout",
          "text": [
            "3×3 matrix with values ranging from 0 to 8:\n",
            " [[0 1 2]\n",
            " [3 4 5]\n",
            " [6 7 8]]\n"
          ]
        }
      ]
    },
    {
      "cell_type": "code",
      "source": [
        "#Create a 3×3 identity matrix. {Hint: np.eye()}\n",
        "arr = np.eye(3,3)\n",
        "print(f\"The 3×3 identity matrix: \\n {arr}\")"
      ],
      "metadata": {
        "colab": {
          "base_uri": "https://localhost:8080/"
        },
        "id": "eimMSEIvu7vO",
        "outputId": "1cb9b441-678d-4d5c-ee15-e706520f53e3"
      },
      "execution_count": null,
      "outputs": [
        {
          "output_type": "stream",
          "name": "stdout",
          "text": [
            "The 3×3 identity matrix: \n",
            " [[1. 0. 0.]\n",
            " [0. 1. 0.]\n",
            " [0. 0. 1.]]\n"
          ]
        }
      ]
    },
    {
      "cell_type": "code",
      "source": [
        "#Create a random array of size 30 and find the mean of the array.{Hint: check for np.random.random() and array.mean() function}\n",
        "from numpy import random\n",
        "arr = np.random.random(30)\n",
        "arr1 = arr.mean()\n",
        "print(f\"The mean of the array:\\n {arr1}\")"
      ],
      "metadata": {
        "colab": {
          "base_uri": "https://localhost:8080/"
        },
        "id": "2Fyy8Y3svVJf",
        "outputId": "e6753d12-bc4f-4cb0-9246-dedaef9ff067"
      },
      "execution_count": null,
      "outputs": [
        {
          "output_type": "stream",
          "name": "stdout",
          "text": [
            "The mean of the array:\n",
            " 0.5380685160827771\n"
          ]
        }
      ]
    },
    {
      "cell_type": "code",
      "source": [
        "#Create a 10×10 array with random values and find the minimum and maximum values.\n",
        "arr = np.random.rand(10,10)\n",
        "max_val= np.max(arr)\n",
        "min_val= np.min(arr)\n",
        "print(f\"The min and max values are: ({max_val}, {min_val})\")"
      ],
      "metadata": {
        "colab": {
          "base_uri": "https://localhost:8080/"
        },
        "id": "on1ci3J25IMY",
        "outputId": "5ec2239b-af90-4cec-8bc0-617bb5dc5c7f"
      },
      "execution_count": null,
      "outputs": [
        {
          "output_type": "stream",
          "name": "stdout",
          "text": [
            "The min and max values are: (0.9920140749327123, 0.0056073958650968425)\n"
          ]
        }
      ]
    },
    {
      "cell_type": "code",
      "source": [
        "#Create a zero array of size 10 and replace the 5th element with 1.\n",
        "arr = np.zeros(10)\n",
        "arr[4]=1\n",
        "print(f\"Zero array of size 10 and replace the 5th element with 1: \",arr)"
      ],
      "metadata": {
        "colab": {
          "base_uri": "https://localhost:8080/"
        },
        "id": "KLKjn6oQ6Mh0",
        "outputId": "fa0d7f45-3204-493c-f5ff-bb11662b9dce"
      },
      "execution_count": 5,
      "outputs": [
        {
          "output_type": "stream",
          "name": "stdout",
          "text": [
            "Zero array of size 10 and replace the 5th element with 1:  [0. 0. 0. 0. 1. 0. 0. 0. 0. 0.]\n"
          ]
        }
      ]
    },
    {
      "cell_type": "code",
      "source": [
        "#Reverse an array arr = [1,2,0,0,4,0].\n",
        "arr = [1,2,0,0,4,0]\n",
        "rev_arr = arr[::-1]\n",
        "print(f\"The original array is: {arr}\\n The reversed array is: {rev_arr}\")"
      ],
      "metadata": {
        "colab": {
          "base_uri": "https://localhost:8080/"
        },
        "id": "ayOCN0Wm6piK",
        "outputId": "4f64b2fb-b625-4b36-dd29-970f9b973bd5"
      },
      "execution_count": null,
      "outputs": [
        {
          "output_type": "stream",
          "name": "stdout",
          "text": [
            "The original array is: [1, 2, 0, 0, 4, 0]\n",
            " The reversed array is: [0, 4, 0, 0, 2, 1]\n"
          ]
        }
      ]
    },
    {
      "cell_type": "code",
      "source": [
        "#Create a 2D array with 1 on the border and 0 inside.\n",
        "#create a 2/2 matrix with ones\n",
        "arr= np.ones((5,5))\n",
        "##fill inside with 0\n",
        "arr[1:-1,1:-1]=0\n",
        "print(f\"2D array with 1 on the border and 0 inside:\\n {arr}\")"
      ],
      "metadata": {
        "colab": {
          "base_uri": "https://localhost:8080/"
        },
        "id": "WBS5rT8t7pq2",
        "outputId": "46af581c-5109-4038-e858-49ac4303795b"
      },
      "execution_count": null,
      "outputs": [
        {
          "output_type": "stream",
          "name": "stdout",
          "text": [
            "2D array with 1 on the border and 0 inside:\n",
            " [[1. 1. 1. 1. 1.]\n",
            " [1. 0. 0. 0. 1.]\n",
            " [1. 0. 0. 0. 1.]\n",
            " [1. 0. 0. 0. 1.]\n",
            " [1. 1. 1. 1. 1.]]\n"
          ]
        }
      ]
    },
    {
      "cell_type": "code",
      "source": [
        "# Creating a 3x3 NumPy array filled with ones\n",
        "arr = np.ones((3, 3))\n",
        "\n",
        "# Creating an 8x8 zero matrix\n",
        "arr= np.zeros((8, 8), dtype=int)\n",
        "arr[1::2, ::2] = 1\n",
        "arr[::2, 1::2] = 1\n",
        "\n",
        "# Printing the resulting checkerboard pattern array\n",
        "print(f\"Checkerboard pattern:\\n {arr}\")"
      ],
      "metadata": {
        "colab": {
          "base_uri": "https://localhost:8080/"
        },
        "id": "Uw5Hd1en82rJ",
        "outputId": "1d91beb7-a221-4488-82de-6123668e87ce"
      },
      "execution_count": null,
      "outputs": [
        {
          "output_type": "stream",
          "name": "stdout",
          "text": [
            "Checkerboard pattern:\n",
            " [[0 1 0 1 0 1 0 1]\n",
            " [1 0 1 0 1 0 1 0]\n",
            " [0 1 0 1 0 1 0 1]\n",
            " [1 0 1 0 1 0 1 0]\n",
            " [0 1 0 1 0 1 0 1]\n",
            " [1 0 1 0 1 0 1 0]\n",
            " [0 1 0 1 0 1 0 1]\n",
            " [1 0 1 0 1 0 1 0]]\n"
          ]
        }
      ]
    },
    {
      "cell_type": "markdown",
      "source": [
        "**Problem - 3: Array Operations:**\n",
        "\n",
        "For the following arrays:\n",
        "\n",
        "x = np.array([[1,2],[3,5]]) and y = np.array([[5,6],[7,8]]);\n",
        "v = np.array([9,10]) and w = np.array([11,12]);"
      ],
      "metadata": {
        "id": "TyVYfY6Q9lwz"
      }
    },
    {
      "cell_type": "code",
      "source": [
        "#add two arrays\n",
        "print(\"Q1.Add two array\")\n",
        "x = np.array([[1,2],[3,5]])\n",
        "y=np.array([[5,6],[7,8]])\n",
        "addXY= x+y #perform add\n",
        "print(f\"Adding X and Y:\\n {addXY}\\n\")\n",
        "v = np.array([9,10])\n",
        "w = np.array([11,12])\n",
        "addVW = v+w #perform add\n",
        "print(f\"Adding V and W:\\n {addVW}\\n\")\n",
        "\n",
        "print(\"Q2.Substract two array\")\n",
        "x = np.array([[1,2],[3,5]])\n",
        "y=np.array([[5,6],[7,8]])\n",
        "subXY= x-y #perform substract\n",
        "print(f\"Substracting X and Y:\\n {subXY}\\n\")\n",
        "v = np.array([9,10])\n",
        "w = np.array([11,12])\n",
        "subVW = v-w #perform substract\n",
        "print(f\"Substracting V and W:\\n {subVW}\\n\")"
      ],
      "metadata": {
        "colab": {
          "base_uri": "https://localhost:8080/"
        },
        "id": "FOcRSPF79q4G",
        "outputId": "b5edc0d7-bc5c-4e3b-e5ec-cbb7d5db1437"
      },
      "execution_count": null,
      "outputs": [
        {
          "output_type": "stream",
          "name": "stdout",
          "text": [
            "Q1.Add two array\n",
            "Adding X and Y:\n",
            " [[ 6  8]\n",
            " [10 13]]\n",
            "\n",
            "Adding V and W:\n",
            " [20 22]\n",
            "\n",
            "Q2.Substract two array\n",
            "Substracting X and Y:\n",
            " [[-4 -4]\n",
            " [-4 -3]]\n",
            "\n",
            "Substracting V and W:\n",
            " [-2 -2]\n",
            "\n"
          ]
        }
      ]
    },
    {
      "cell_type": "code",
      "source": [
        "print(\"Q3. Multiply the array with an integer (5)\")\n",
        "x = np.array([[1,2],[3,5]])\n",
        "y=np.array([[5,6],[7,8]])\n",
        "v = np.array([9,10])\n",
        "w = np.array([11,12])\n",
        "#perform multiply with integer 5\n",
        "mulx= x*5\n",
        "muly= y*5\n",
        "mulv = v*5\n",
        "mulw = w*5\n",
        "#print result of multiplication of array with integer 5\n",
        "print(f\"Multiplication X with 5:\\n {mulx}\\n\")\n",
        "print(f\"Multiplication Y with 5:\\n {muly}\\n\")\n",
        "print(f\"Multiplication V with 5:\\n {mulv}\\n\")\n",
        "print(f\"Multiplication W with 5:\\n {mulw}\\n\")"
      ],
      "metadata": {
        "colab": {
          "base_uri": "https://localhost:8080/"
        },
        "id": "F6F5a183_S3K",
        "outputId": "ed2feb99-1e77-4b06-d54c-0e94b093045c"
      },
      "execution_count": null,
      "outputs": [
        {
          "output_type": "stream",
          "name": "stdout",
          "text": [
            "Q3. Multiply the array with an integer (5)\n",
            "Multiplication X with 5:\n",
            " [[ 5 10]\n",
            " [15 25]]\n",
            "\n",
            "Multiplication Y with 5:\n",
            " [[25 30]\n",
            " [35 40]]\n",
            "\n",
            "Multiplication V with 5:\n",
            " [45 50]\n",
            "\n",
            "Multiplication W with 5:\n",
            " [55 60]\n",
            "\n"
          ]
        }
      ]
    },
    {
      "cell_type": "code",
      "source": [
        "print(\"Q.4. Find the square of each element of the array\")\n",
        "x = np.array([[1,2],[3,5]])\n",
        "y=np.array([[5,6],[7,8]])\n",
        "v = np.array([9,10])\n",
        "w = np.array([11,12])\n",
        "sqX= x**2 #perform square of each element of array\n",
        "sqY= y**2\n",
        "sqV = v**2\n",
        "sqW = w**2\n",
        "#print the of each element of the array\n",
        "print(f\"Sqaure of each element of the arrayX:\\n {sqX}\\n\")\n",
        "print(f\"Sqaure of each element of the arrayY:\\n {sqY}\\n\")\n",
        "print(f\"Sqaure of each element of the arrayV:\\n {sqV}\\n\")\n",
        "print(f\"Sqaure of each element of the arrayW:\\n {sqW}\\n\")\n"
      ],
      "metadata": {
        "colab": {
          "base_uri": "https://localhost:8080/"
        },
        "id": "tf5iD-kBALlC",
        "outputId": "e0aadf36-4924-49f0-dabb-d79c4f088ba7"
      },
      "execution_count": null,
      "outputs": [
        {
          "output_type": "stream",
          "name": "stdout",
          "text": [
            "Q.4. Find the square of each element of the array\n",
            "Sqaure of each element of the arrayX:\n",
            " [[ 1  4]\n",
            " [ 9 25]]\n",
            "\n",
            "Sqaure of each element of the arrayY:\n",
            " [[25 36]\n",
            " [49 64]]\n",
            "\n",
            "Sqaure of each element of the arrayV:\n",
            " [ 81 100]\n",
            "\n",
            "Sqaure of each element of the arrayW:\n",
            " [121 144]\n",
            "\n"
          ]
        }
      ]
    },
    {
      "cell_type": "code",
      "source": [
        "import numpy as np\n",
        "\n",
        "print(\"Q.5. Find the dot product\\n\")\n",
        "x = np.array([[1,2],[3,5]])\n",
        "y = np.array([[5,6],[7,8]])\n",
        "v = np.array([9,10])\n",
        "w = np.array([11,12])\n",
        "#dot product of the given array\n",
        "dot_vw = np.dot(v, w)\n",
        "dot_xv = np.dot(x, v)\n",
        "dot_xy = np.dot(x, y)\n",
        "#displau result of dot product\n",
        "print(\"Dot product v·w:\", dot_vw)\n",
        "print(\"Dot product x·v:\\n\", dot_xv)\n",
        "print(\"Dot product x·y:\\n\", dot_xy)"
      ],
      "metadata": {
        "colab": {
          "base_uri": "https://localhost:8080/"
        },
        "id": "IYp5jocQBEaP",
        "outputId": "65283e9e-8ac4-4b79-bc02-20fa44566cf3"
      },
      "execution_count": null,
      "outputs": [
        {
          "output_type": "stream",
          "name": "stdout",
          "text": [
            "Q.5. Find the dot product\n",
            "\n",
            "Dot product v·w: 219\n",
            "Dot product x·v:\n",
            " [29 77]\n",
            "Dot product x·y:\n",
            " [[19 22]\n",
            " [50 58]]\n"
          ]
        }
      ]
    },
    {
      "cell_type": "code",
      "source": [
        "#Concatenate x(and)y along row and Concatenate v(and)w along column.\n",
        "# {Hint:try np.concatenate() or np.vstack() functions.\n",
        "x = np.array([[1,2],[3,5]])\n",
        "y = np.array([[5,6],[7,8]])\n",
        "v = np.array([9,10])\n",
        "w = np.array([11,12])\n",
        "\n",
        "xy_concate = np.concatenate((x,y), axis=0)\n",
        "\n",
        "#reshape v and w into col vectors\n",
        "\n",
        "vCol = v.reshape(-1, 1)\n",
        "wCol = w.reshape(-1, 1)\n",
        "\n",
        "#concatenate v and w along column\n",
        "vw_concate = np.concatenate((vCol,wCol), axis=1)\n",
        "\n",
        "#display the results\n",
        "print(f\"Concatenate x(and)y along row:\\n {xy_concate}\\n\")\n",
        "print(f\"Concatenate v(and)w along col:\\n {vw_concate}\\n\")"
      ],
      "metadata": {
        "colab": {
          "base_uri": "https://localhost:8080/"
        },
        "id": "NUzZqDiFYi3I",
        "outputId": "14eba046-baa1-4504-c7f6-c1010c40b8f3"
      },
      "execution_count": null,
      "outputs": [
        {
          "output_type": "stream",
          "name": "stdout",
          "text": [
            "Concatenate x(and)y along row:\n",
            " [[1 2]\n",
            " [3 5]\n",
            " [5 6]\n",
            " [7 8]]\n",
            "\n",
            "Concatenate v(and)w along col:\n",
            " [[ 9 11]\n",
            " [10 12]]\n",
            "\n"
          ]
        }
      ]
    },
    {
      "cell_type": "code",
      "source": [
        "#Concatenate x(and)v; if you get an error, observe and explain why did you get the error?\n",
        "x = np.array([[1,2],[3,5]])\n",
        "v = np.array([9,10])\n",
        "xv_concate = np.concatenate((x,v), axis=0)\n",
        "print(xv_concate)"
      ],
      "metadata": {
        "colab": {
          "base_uri": "https://localhost:8080/",
          "height": 211
        },
        "id": "tmtKLbprnyKy",
        "outputId": "ed0a9e57-4c0e-492f-c95e-cf6b3e82dfe3"
      },
      "execution_count": null,
      "outputs": [
        {
          "output_type": "error",
          "ename": "ValueError",
          "evalue": "all the input arrays must have same number of dimensions, but the array at index 0 has 2 dimension(s) and the array at index 1 has 1 dimension(s)",
          "traceback": [
            "\u001b[0;31m---------------------------------------------------------------------------\u001b[0m",
            "\u001b[0;31mValueError\u001b[0m                                Traceback (most recent call last)",
            "\u001b[0;32m<ipython-input-9-3ff18aee45a4>\u001b[0m in \u001b[0;36m<cell line: 0>\u001b[0;34m()\u001b[0m\n\u001b[1;32m      3\u001b[0m \u001b[0mv\u001b[0m \u001b[0;34m=\u001b[0m \u001b[0mnp\u001b[0m\u001b[0;34m.\u001b[0m\u001b[0marray\u001b[0m\u001b[0;34m(\u001b[0m\u001b[0;34m[\u001b[0m\u001b[0;36m9\u001b[0m\u001b[0;34m,\u001b[0m\u001b[0;36m10\u001b[0m\u001b[0;34m]\u001b[0m\u001b[0;34m)\u001b[0m\u001b[0;34m\u001b[0m\u001b[0;34m\u001b[0m\u001b[0m\n\u001b[1;32m      4\u001b[0m \u001b[0;34m\u001b[0m\u001b[0m\n\u001b[0;32m----> 5\u001b[0;31m \u001b[0mxv_concate\u001b[0m \u001b[0;34m=\u001b[0m \u001b[0mnp\u001b[0m\u001b[0;34m.\u001b[0m\u001b[0mconcatenate\u001b[0m\u001b[0;34m(\u001b[0m\u001b[0;34m(\u001b[0m\u001b[0mx\u001b[0m\u001b[0;34m,\u001b[0m\u001b[0mv\u001b[0m\u001b[0;34m)\u001b[0m\u001b[0;34m,\u001b[0m \u001b[0maxis\u001b[0m\u001b[0;34m=\u001b[0m\u001b[0;36m0\u001b[0m\u001b[0;34m)\u001b[0m\u001b[0;34m\u001b[0m\u001b[0;34m\u001b[0m\u001b[0m\n\u001b[0m\u001b[1;32m      6\u001b[0m \u001b[0;34m\u001b[0m\u001b[0m\n\u001b[1;32m      7\u001b[0m \u001b[0mprint\u001b[0m\u001b[0;34m(\u001b[0m\u001b[0mxv_concate\u001b[0m\u001b[0;34m)\u001b[0m\u001b[0;34m\u001b[0m\u001b[0;34m\u001b[0m\u001b[0m\n",
            "\u001b[0;31mValueError\u001b[0m: all the input arrays must have same number of dimensions, but the array at index 0 has 2 dimension(s) and the array at index 1 has 1 dimension(s)"
          ]
        }
      ]
    },
    {
      "cell_type": "markdown",
      "source": [
        "**Answer**\n",
        "\n",
        "* ValueError: all the input arrays must have same number of dimensions, but the array at index 0 has 2 dimension(s) and the array at index 1 has 1 dimension(s)\n",
        "We get this value error while concatenating x and v as X  is 2D array having dimension 2x2 but v is 1D array. Hence, the error is occuring. For concatenation to work, v also should have same no.of column as x i.e 2. Hence, v needs to be reshaped to be able to perform concatenation with x."
      ],
      "metadata": {
        "id": "VWcBpDmCoPDl"
      }
    },
    {
      "cell_type": "markdown",
      "source": [
        "# Problem - 4: Matrix Operations:"
      ],
      "metadata": {
        "id": "oiRlJ9xhq4-9"
      }
    },
    {
      "cell_type": "markdown",
      "source": [
        "• For the following arrays:\n",
        "A = np.array([[3,4],[7,8]]) and B = np.array([[5,3],[2,1]]);\n",
        "Prove following with Numpy:\n",
        "1. Prove A.A−1 = I.\n",
        "2. Prove AB ̸= BA.\n",
        "3. Prove (AB)\n",
        "\n",
        "T = BTAT"
      ],
      "metadata": {
        "id": "81fu5q4Uq6uQ"
      }
    },
    {
      "cell_type": "code",
      "source": [
        "#prove A.A−1 = I.\n",
        "A = np.array([[3,4],[7,8]])\n",
        "B = np.array([[5,3],[2,1]])\n",
        "\n",
        "# Compute the inverse of A\n",
        "A_inverse = np.linalg.inv(A)\n",
        "\n",
        "# Compute A * A_inv\n",
        "I = np.dot(A, A_inverse)\n",
        "I_expected = np.eye(2)\n",
        "\n",
        "print(\"1.prove A.A−1 = I.\\n\")\n",
        "# Print results\n",
        "print(\"A * A⁻¹ = \\n\", I)\n",
        "print(\"\\nIdentity matrix:\\n \",I_expected)\n",
        "print(\"Is A * A⁻¹ approximately equal to Identity Matrix?:\", np.allclose(I, I_expected))\n",
        "\n",
        "#Prove AB ̸= BA.\n",
        "A = np.array([[3,4],[7,8]])\n",
        "B = np.array([[5,3],[2,1]])\n",
        "\n",
        "AB = np.dot(A,B)\n",
        "BA = np.dot(B,A)\n",
        "print(\"\\n2. Prove AB ̸= BA.\\n\")\n",
        "print(\"AB:\\n\" ,AB)\n",
        "print(\"BA:\\n\", BA)\n",
        "if not np.array_equal(AB, BA):\n",
        "  print(\"AB  ̸= BA\")\n",
        "\n",
        "# 3. Prove (AB)ᵀ = Bᵀ * Aᵀ\n",
        "AB_T= np.transpose(AB)\n",
        "BT_AT = np.dot(B.T, A.T)\n",
        "print(\"\\n3. Prove (AB)ᵀ = Bᵀ * Aᵀ\")\n",
        "print(\"\\n(AB)ᵀ:\\n\", AB_T)\n",
        "print(\"\\nBᵀ * Aᵀ:\\n\", BT_AT)\n",
        "if np.array_equal(AB_T, BT_AT):\n",
        "    print(\"\\n(AB)ᵀ = Bᵀ * Aᵀ\")"
      ],
      "metadata": {
        "colab": {
          "base_uri": "https://localhost:8080/"
        },
        "id": "Z1wwH3z6qejF",
        "outputId": "070dc8f3-6f32-40cd-a2bc-e965541e8779"
      },
      "execution_count": 4,
      "outputs": [
        {
          "output_type": "stream",
          "name": "stdout",
          "text": [
            "1.prove A.A−1 = I.\n",
            "\n",
            "A * A⁻¹ = \n",
            " [[1.00000000e+00 0.00000000e+00]\n",
            " [1.77635684e-15 1.00000000e+00]]\n",
            "\n",
            "Identity matrix:\n",
            "  [[1. 0.]\n",
            " [0. 1.]]\n",
            "Is A * A⁻¹ approximately equal to Identity Matrix?: True\n",
            "\n",
            "2. Prove AB ̸= BA.\n",
            "\n",
            "AB:\n",
            " [[23 13]\n",
            " [51 29]]\n",
            "BA:\n",
            " [[36 44]\n",
            " [13 16]]\n",
            "AB  ̸= BA\n",
            "\n",
            "3. Prove (AB)ᵀ = Bᵀ * Aᵀ\n",
            "\n",
            "(AB)ᵀ:\n",
            " [[23 51]\n",
            " [13 29]]\n",
            "\n",
            "Bᵀ * Aᵀ:\n",
            " [[23 51]\n",
            " [13 29]]\n",
            "\n",
            "(AB)ᵀ = Bᵀ * Aᵀ\n"
          ]
        }
      ]
    },
    {
      "cell_type": "markdown",
      "source": [
        "# 4. Solve Linear Equations using Inverse Methods\n",
        "# System of equations:\n",
        "#  2x - 3y + z = -1\n",
        "#  x - y + 2z = -3\n",
        "#  3x + y - z = 9\n",
        "\n"
      ],
      "metadata": {
        "id": "MWl90VHQ4mBa"
      }
    },
    {
      "cell_type": "code",
      "source": [
        "A = np.array([[2, -3, 1],\n",
        "              [1, -1, 2],\n",
        "              [3, 1, -1]])\n",
        "\n",
        "B= np.array([-1, -3, 9])\n",
        "\n",
        "A_inv = np.linalg.inv(A) #inverse of A\n",
        "result = np.dot(A_inv, B) #dot product of A inverse and B\n",
        "print(\"\\nThe value of x,y,x after solving the Linear Equations (x, y, z):\\n\", result)"
      ],
      "metadata": {
        "colab": {
          "base_uri": "https://localhost:8080/"
        },
        "id": "b_fw3UKJ4ogO",
        "outputId": "cedba13b-9e85-41e8-8ae7-6a24b3383770"
      },
      "execution_count": null,
      "outputs": [
        {
          "output_type": "stream",
          "name": "stdout",
          "text": [
            "\n",
            "The value of x,y,x after solving the Linear Equations (x, y, z):\n",
            " [ 2.  1. -2.]\n"
          ]
        }
      ]
    },
    {
      "cell_type": "markdown",
      "source": [
        "# How fast is numpy\n"
      ],
      "metadata": {
        "id": "nf3vT2815LDO"
      }
    },
    {
      "cell_type": "code",
      "source": [
        "import numpy as np\n",
        "import time\n",
        "\n",
        "size = 1_000_000\n",
        "matrix_size = 1000\n",
        "\n",
        "# Generate random data\n",
        "listA = [i for i in range(size)]\n",
        "listB = [i for i in range(size)]\n",
        "\n",
        "arr1 = np.arange(size)\n",
        "arr2 = np.arange(size)\n",
        "\n",
        "# 1. Element-wise Addition\n",
        "# Using Python Lists\n",
        "print(\"1. Element-wise Addition\\n\")\n",
        "start_time = time.time()\n",
        "list_addition = [listA[i] + listB[i] for i in range(size)]\n",
        "addition_time = time.time() - start_time\n",
        "print(f\"Time taken to perform element-wise addition of two lists: {addition_time:.5f} seconds\")\n",
        "\n",
        "#Using Numpy Arrays, Repeat the calculation and measure and print the time taken for\n",
        "# this operation.\n",
        "start_time = time.time()\n",
        "numpy_add= arr1 + arr2\n",
        "time_numpy_add = time.time() - start_time\n",
        "print(f\"Time taken for numpy array addition: {time_numpy_add:.5f} seconds\")\n",
        "\n",
        "# 2. Element-wise Multiplication\n",
        "# Using Python Lists, perform element-wise multiplication of two lists of size\n",
        "print(\"\\n 2. Element-wise Multiplication\\n\")\n",
        "start_time = time.time()\n",
        "list_mul = [listA[i] * listB[i] for i in range(size)]\n",
        "mul_time = time.time() - start_time\n",
        "print(f\"\\nTime take to perform element-wise multiplication of two lists of size: {mul_time:.5f} seconds\")\n",
        "\n",
        "# Using Numpy Arrays, Repeat the calculation and measure and print the time taken\n",
        "start_time = time.time()\n",
        "numpy_mul = arr1 * arr2\n",
        "numpy_mul_time = time.time() - start_time\n",
        "print(f\"Time taken for numpy array multiplication:  {numpy_mul_time:.5f} seconds\")\n",
        "\n",
        "# 3. Dot Product\n",
        "# Using Python Lists, compute the dot product of two lists of size\n",
        "print(\"\\n 3. Dot Product\\n\")\n",
        "start_time = time.time()\n",
        "dot_prod = sum(listA[i] * listB[i] for i in range(size))\n",
        "dot_prod_time = time.time() - start_time\n",
        "print(f\"\\nTime taken to compute the dot product of two lists of size: {dot_prod_time:.5f} seconds\")\n",
        "\n",
        "# Using NumPy Arrays\n",
        "start_time = time.time()\n",
        "numpy_dot_prod = np.dot(arr1, arr2)\n",
        "numpy_dot_prod_time = time.time() - start_time\n",
        "print(f\"Time taken for NumPy Arrays Dot Product: {numpy_dot_prod_time:.5f} seconds\")\n",
        "\n",
        "# 4. Matrix Multiplication\n",
        "# Generate random matrices\n",
        "print(\"\\n 4. Matrix Multiplication\\n\")\n",
        "list_mat1 = [[j for j in range(matrix_size)] for i in range(matrix_size)]\n",
        "list_mat2 = [[j for j in range(matrix_size)] for i in range(matrix_size)]\n",
        "\n",
        "numpy_mat1 = np.arange(matrix_size ** 2).reshape(matrix_size, matrix_size)\n",
        "numpy_mat2 = np.arange(matrix_size ** 2).reshape(matrix_size, matrix_size)\n",
        "\n",
        "# Using Python Lists\n",
        "start_time = time.time()\n",
        "resultant_matrix = [[sum(a * b for a, b in zip(row, col)) for col in zip(*list_mat2)] for row in list_mat1]\n",
        "matrix_multiplication_time = time.time() - start_time\n",
        "print(f\"\\nTime taken to perform matrix multiplication of two matrices: {matrix_multiplication_time:.5f} seconds\")\n",
        "\n",
        "# Using NumPy Arrays\n",
        "start_time = time.time()\n",
        "numpy_mat_multiplication = np.dot(numpy_mat1, numpy_mat2)\n",
        "numpy_mat_multiplication_time = time.time() - start_time\n",
        "print(f\"Time taken NumPy Arrays Matrix Multiplication: {numpy_mat_multiplication_time:.5f} seconds\")"
      ],
      "metadata": {
        "colab": {
          "base_uri": "https://localhost:8080/"
        },
        "id": "ZaooXhxP5t2M",
        "outputId": "8e14332c-0cce-4bcc-fa47-0dc3f1894bd6"
      },
      "execution_count": 2,
      "outputs": [
        {
          "output_type": "stream",
          "name": "stdout",
          "text": [
            "1. Element-wise Addition\n",
            "\n",
            "Time taken to perform element-wise addition of two lists: 0.13647 seconds\n",
            "Time taken for numpy array addition: 0.00597 seconds\n",
            "\n",
            " 2. Element-wise Multiplication\n",
            "\n",
            "\n",
            "Time take to perform element-wise multiplication of two lists of size: 0.20069 seconds\n",
            "Time taken for numpy array multiplication:  0.00490 seconds\n",
            "\n",
            " 3. Dot Product\n",
            "\n",
            "\n",
            "Time taken to compute the dot product of two lists of size: 0.21261 seconds\n",
            "Time taken for NumPy Arrays Dot Product: 0.00257 seconds\n",
            "\n",
            " 4. Matrix Multiplication\n",
            "\n",
            "\n",
            "Time taken to perform matrix multiplication of two matrices: 166.97600 seconds\n",
            "Time taken NumPy Arrays Matrix Multiplication: 1.24529 seconds\n"
          ]
        }
      ]
    }
  ]
}